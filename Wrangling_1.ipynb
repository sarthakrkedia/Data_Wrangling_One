{
 "cells": [
  {
   "cell_type": "markdown",
   "metadata": {},
   "source": [
    "<h1>Data Wrangling</h1>\n",
    "\n"
   ]
  },
  {
   "cell_type": "markdown",
   "metadata": {},
   "source": [
    "<h3 style=\"color:red\">Task 1 Started </h3>"
   ]
  },
  {
   "cell_type": "markdown",
   "metadata": {},
   "source": [
    "<p style=\"color:green;font-weight: bold;font-style: italic;\">The Task 1 is about Parsing the property sales data stored in “data.dat\"\n",
    "<br>\n",
    "First Step is to examine and load the data into a Pandas DataFrame.\n",
    "I have parsed the loaded data so that each sales record has the following attributes:\n",
    "</p>\n",
    "<table style=\"width:100%; border: 1px solid black;\">\n",
    "<tr>\n",
    "<th>Attribute</th>\n",
    "<th>Description</th>\n",
    "</tr>\n",
    "<!-- Date-->\n",
    "<tr>\n",
    "<td>Date</td>\n",
    "<td>Date of the property sold, e.g., 20140502T000000</td>\n",
    "</tr>\n",
    "<!-- Price-->\n",
    "<tr>\n",
    "<td>price</td>\n",
    "<td>Property sold price</td>\n",
    "</tr>\n",
    "<!-- BedRooms-->\n",
    "<tr>\n",
    "<td>bedrooms</td>\n",
    "<td>Number of bedrooms</td>\n",
    "</tr>\n",
    "<!-- BathRooms-->\n",
    "<tr>\n",
    "<td>bathrooms</td>\n",
    "<td>Number of bathrooms, the value of which can be either an integer or a fraction ending with .25, .5, and .75. For example, 0.5 accounts for a room with a toilet but no shower </td>\n",
    "</tr>\n",
    "<!-- Square Feet Living Area-->\n",
    "<tr>\n",
    "<td>sqft_living</td>\n",
    "<td>Square footage of the property's interior living space, it is equal to the sum of basement area (i.e., sqft_basement) and the above living area (i.e., sqft_above) </td>\n",
    "</tr>\n",
    "<!-- Square Feet Lot Area-->\n",
    "<tr>\n",
    "<td>sqft_lot</td>\n",
    "<td>Square footage of the land space</td>\n",
    "</tr>\n",
    "<!-- Floors-->\n",
    "<tr>\n",
    "<td>floors</td>\n",
    "<td>Number of floors</td>\n",
    "</tr>\n",
    "<!-- Water Front-->\n",
    "<tr>\n",
    "<td>waterfront</td>\n",
    "<td>Whether the property was overlooking the waterfront or not</td>\n",
    "</tr>\n",
    "<!-- View-->\n",
    "<tr>\n",
    "<td>view</td>\n",
    "<td>An index from 0 to 4 of how good the view of the property was</td>\n",
    "</tr>\n",
    "<!-- Condition-->\n",
    "<tr>\n",
    "<td>condition</td>\n",
    "<td>An index from 1 to 5 on the condition of the property.</td>\n",
    "</tr>\n",
    "<!-- Square Feet  Above-->\n",
    "<tr>\n",
    "<td>sqft_above</td>\n",
    "<td>The square footage of the interior living space that is above ground level </td>\n",
    "</tr>\n",
    "<!-- Square Feet Basement-->\n",
    "<tr>\n",
    "<td>sqft_basement</td>\n",
    "<td>The square footage of the interior living space that is below ground level </td>\n",
    "</tr>\n",
    "<!-- Year Built-->\n",
    "<tr>\n",
    "<td>yr_built</td>\n",
    "<td>The year the property was initially built </td>\n",
    "</tr>\n",
    "<!-- Year Renovated-->\n",
    "<tr>\n",
    "<td>yr_renovated</td>\n",
    "<td>The year of the property's last renovation</td>\n",
    "</tr>\n",
    "<!-- Street-->\n",
    "<tr>\n",
    "<td>street</td>\n",
    "<td>The street address of the property, e.g., “3140 Franklin Ave E”</td>\n",
    "</tr>\n",
    "<!-- City-->\n",
    "<tr>\n",
    "<td>city</td>\n",
    "<td>The city where the property is, e.g., “Seattle”</td>\n",
    "</tr>\n",
    "<!-- State and Zip Code-->\n",
    "<tr>\n",
    "<td>statezip</td>\n",
    "<td>The zip code area where the property is, which contains state and zip code, separated by a space. For example, “WA 98115”, where WA is the abbreviation of Washington and the number is the zip code.</td>\n",
    "</tr>\n",
    "<!-- Country-->\n",
    "<tr>\n",
    "<td>country</td>\n",
    "<td>The country where the property is, e.g., “USA”</td>\n",
    "</tr>\n",
    "</table>\n",
    "<p style=\"color:green;font-weight: bold;font-style: italic;\">\n",
    " Now I have a DataFrame where each row is a sales record and each column is one of the attributes listed in the table above. All the columns are labeled with attribute names shown in the table and also have a proper data type (e.g., integer, string, float, date, etc).\n",
    "</p>"
   ]
  },
  {
   "cell_type": "code",
   "execution_count": 1,
   "metadata": {},
   "outputs": [
    {
     "name": "stderr",
     "output_type": "stream",
     "text": [
      "/anaconda3/lib/python3.7/site-packages/sklearn/cross_validation.py:41: DeprecationWarning: This module was deprecated in version 0.18 in favor of the model_selection module into which all the refactored classes and functions are moved. Also note that the interface of the new CV iterators are different from that of this module. This module will be removed in 0.20.\n",
      "  \"This module will be removed in 0.20.\", DeprecationWarning)\n"
     ]
    }
   ],
   "source": [
    "# Importing Libraries\n",
    "import pandas as pd\n",
    "import numpy as np\n",
    "import matplotlib.pyplot as plt\n",
    "import json\n",
    "#import seaborn as sns\n",
    "from pandas.io.json import json_normalize\n",
    "import re as re\n",
    "import datetime as dt\n",
    "from dateutil.parser import parse # for date format check\n",
    "from sklearn.linear_model import LinearRegression # for price prediction\n",
    "from sklearn.cross_validation import train_test_split # for splitting the data\n",
    "% matplotlib inline"
   ]
  },
  {
   "cell_type": "code",
   "execution_count": 2,
   "metadata": {},
   "outputs": [],
   "source": [
    "# Opening File Data and Converting it into pandas Dataframe\n",
    "file_handle=open('data.dat')\n",
    "#print (file_handle.read())\n",
    "file_data=file_handle.read()\n",
    "file_data=json.loads(file_data) # Loading the Data into a json python dictionary\n",
    "file_handle.close() # Closing file Handle\n",
    "#print (type(file_data))\n",
    "dataframe = json_normalize(file_data['houses']) # Creating a dataframe based on json dictionary\n",
    "#print (type(dataframe))"
   ]
  },
  {
   "cell_type": "code",
   "execution_count": 3,
   "metadata": {
    "scrolled": false
   },
   "outputs": [],
   "source": [
    "# Assigning Data Types and Creating Data Columns\n",
    "#print (dataframe.shape)\n",
    "#print (dataframe.describe())\n",
    "# Finding Street Address, City, Country and statezip from address\n",
    "address_list=dataframe['address'].tolist()\n",
    "street_address=[]\n",
    "country=[]\n",
    "statezip=[]\n",
    "city=[]\n",
    "for address in address_list:\n",
    "    address_list=address.split(',')\n",
    "    if len(address_list) !=4:\n",
    "        print (\"Address not formatted\")\n",
    "    street_address.append(address_list[0].strip())\n",
    "    city.append(address_list[1].strip())\n",
    "    statezip.append(address_list[2].strip())\n",
    "    country.append(address_list[3].strip())\n",
    "dataframe['country']=country # Adding to data frame\n",
    "dataframe['street']=street_address# Adding to data frame\n",
    "dataframe['city']=city# Adding to data frame\n",
    "dataframe['statezip']=statezip# Adding to data frame\n",
    "dataframe.tail()\n",
    "#dataframe.shape\n",
    "# Creating sqft_living and sqft_lot\n",
    "sqft_list=dataframe['area.sqft_living/sqft_lot'].tolist()\n",
    "sqft_living=[]\n",
    "sqft_lot=[]\n",
    "for area in sqft_list:\n",
    "    #print (area)\n",
    "    area_list=area.split(\"=\")\n",
    "    if area_list[0]!=\"sqft_living/sqft_lot\":\n",
    "        print (\"Error\")\n",
    "    else:\n",
    "        area_list=area_list[1].split(\" \")\n",
    "        #print (area_list[0][:-1])\n",
    "        sqft_living.append(area_list[0][:-1])\n",
    "        sqft_lot.append(area_list[1])\n",
    "dataframe['sqft_living']=sqft_living # appending new series to dataframe\n",
    "dataframe['sqft_lot']=sqft_lot # appending new series to dataframe"
   ]
  },
  {
   "cell_type": "code",
   "execution_count": 4,
   "metadata": {},
   "outputs": [],
   "source": [
    "\n",
    "# Creating number of bathrooms and bedrooms\n",
    "# Note in some rows no of bathrooms is after the no of bedrooms\n",
    "dataframe.head()\n",
    "rooms_list=dataframe['rooms'].tolist() # Converting them to a list and not changing the order\n",
    "bedrooms=[]\n",
    "bathrooms=[]\n",
    "room_data=[]\n",
    "updated_rooms=[]\n",
    "for rooms in rooms_list:\n",
    "    #print (rooms)\n",
    "    rooms=rooms.split(';')\n",
    "    #print (rooms)\n",
    "    room_data=rooms[0].split(':')\n",
    "    if room_data[0][10:] !=\"bathrooms\":\n",
    "        rooms.reverse() # Reversing the order of bathroom and bedroom\n",
    "        updated_rooms.append(rooms)\n",
    "    else:\n",
    "        updated_rooms.append(rooms)\n",
    "for room in updated_rooms:\n",
    "    room[0]=room[0].strip()\n",
    "    room[1]=room[1].strip()\n",
    "    #print (room[1])\n",
    "    bathrooms.append(room[0][21:]) # finding number of bathrooms\n",
    "    bedrooms.append(room[1][20:])# finding number of bedrooms\n",
    "dataframe['bedrooms']=bedrooms # appending new series to dataframe\n",
    "dataframe['bathrooms']=bathrooms# appending new series to dataframe\n",
    "dataframe.head()\n",
    "dataframe.drop('address',inplace=True,axis=1) # Dropping Address Column\n",
    "dataframe.drop('area.sqft_living/sqft_lot',inplace=True,axis=1) # Dropping area.sqft_living/sqft_lot Column\n",
    "dataframe.drop('rooms',inplace=True,axis=1) # Dropping rooms Column\n",
    "#dataframe.head()"
   ]
  },
  {
   "cell_type": "code",
   "execution_count": 5,
   "metadata": {
    "scrolled": true
   },
   "outputs": [],
   "source": [
    "# Renaming Columns and Ordering \n",
    "#print (dataframe.columns)\n",
    "dataframe.rename(columns={ \"area.sqft_above\": \"sqft_above\",\"area.sqft_basement\":\"sqft_basement\"},inplace=True)\n",
    "dataframe = dataframe[['date', 'price', 'bedrooms','bathrooms','sqft_living','sqft_lot','floors','waterfront'\n",
    "                       ,'view','condition','sqft_above','sqft_basement','yr_built','yr_renovated',\n",
    "                      'street','city','statezip','country']]\n"
   ]
  },
  {
   "cell_type": "code",
   "execution_count": 6,
   "metadata": {},
   "outputs": [
    {
     "name": "stdout",
     "output_type": "stream",
     "text": [
      "date              object\n",
      "price            float64\n",
      "bedrooms           int64\n",
      "bathrooms        float64\n",
      "sqft_living        int64\n",
      "sqft_lot           int64\n",
      "floors           float64\n",
      "waterfront         int64\n",
      "view               int64\n",
      "condition          int64\n",
      "sqft_above         int64\n",
      "sqft_basement      int64\n",
      "yr_built           int64\n",
      "yr_renovated       int64\n",
      "street            object\n",
      "city              object\n",
      "statezip          object\n",
      "country           object\n",
      "dtype: object\n"
     ]
    }
   ],
   "source": [
    "#Changing Types of columns\n",
    "dataframe.dtypes\n",
    "# Changing Date Column Type to Date from Object\n",
    "# 23 05 2014\n",
    "# changing bedroom to int\n",
    "dataframe['bedrooms']=dataframe.bedrooms.astype('int')\n",
    "dataframe.dtypes\n",
    "# changing bathroom to float\n",
    "dataframe['bathrooms']=dataframe.bathrooms.astype('float')\n",
    "# changing sqft_living to float\n",
    "dataframe['sqft_living']=dataframe.sqft_living.astype('int')\n",
    "# Chanign sqft_lot to float\n",
    "dataframe['sqft_lot']=dataframe.sqft_lot.astype('int')\n",
    "# Changing Year_Renovated to int\n",
    "# As we cannot convert Nan to int \n",
    "# Nan values means that the property hasnt been renovated \n",
    "# So replacing Nan values to 0 \n",
    "dataframe.yr_renovated=dataframe.yr_renovated.fillna(0).astype(int)\n",
    "print (dataframe.dtypes)\n"
   ]
  },
  {
   "cell_type": "markdown",
   "metadata": {},
   "source": [
    "\n",
    "<h5 style=\"color:red\"> Date is still an object because there are some issues with its format \n",
    " I will convert it after removing all the issues </h5>"
   ]
  },
  {
   "cell_type": "markdown",
   "metadata": {},
   "source": [
    "<h3 style=\"color:red\">Task 1 Finished </h3>"
   ]
  },
  {
   "cell_type": "markdown",
   "metadata": {},
   "source": [
    "<h3 style=\"color:red\">Task 2 Started </h3>"
   ]
  },
  {
   "cell_type": "markdown",
   "metadata": {},
   "source": [
    "<p style=\"color:green;font-weight: bold;font-style: italic;\">In this task, I have inspected and audited the data to identify the data problems and then fixed the problems. \n",
    "Different generic and major data problems found in the data included:\n",
    "</p>\n",
    "<ul style=\"color:black;font-weight: bold;font-style: italic;\">\n",
    "<li>Lexical errors, e.g., typos and spelling mistakes</li>\n",
    "<li>Irregularities, e.g., abnormal data values and data formats</li>\n",
    "<li>Violations of the Integrity constraint.</li>\n",
    "<li>Outliers</li>\n",
    "<li>Duplications</li>\n",
    "<li>Missing values</li>\n",
    "<li>Inconsistency, e.g., inhomogeneity in values and types in representing the same data</li>\n",
    "</ul>"
   ]
  },
  {
   "cell_type": "markdown",
   "metadata": {},
   "source": [
    "<div style=\"color:red\">\n",
    "<h4>Step 1 is to remove the Lexical Errors</h4>\n",
    "<h5>Lexical Errors are usually found in String (object) data types<br>\n",
    "Objects data types in this data frame are street,city,statezip and country</h5>\n",
    "<p>There is only one country in the dataset that is USA <br>\n",
    "There is only one State that is WA or Washington D.C<br>\n",
    "The range of the zip code is 98001 to 94403<br>\n",
    "All of them are inside washington boundries\n",
    "<br>\n",
    "</p>\n",
    "</div>\n"
   ]
  },
  {
   "cell_type": "code",
   "execution_count": 7,
   "metadata": {},
   "outputs": [
    {
     "name": "stdout",
     "output_type": "stream",
     "text": [
      "['USA']\n",
      "{'WA'}\n",
      "77\n"
     ]
    }
   ],
   "source": [
    "# Country should be USA\n",
    "print (dataframe.country.unique())\n",
    "\n",
    "# Checking Lexical Errors for State Zip. The format is 0000 AA where 0000 is the zip code and AA is the state acronym\n",
    "statelist=dataframe['statezip'].tolist()\n",
    "unique_state_set=[]\n",
    "for states in statelist:\n",
    "    unique_state_set.append(states[:2])\n",
    "print (set(unique_state_set))\n",
    "# Only state is  WA or Washington, D.C\n",
    "\n",
    "\n",
    "# Now All the Zip codes should be from Washington D.C as well\n",
    "# The range of Washington zip codes is 98001  to 99403\n",
    "# Checking Zip code\n",
    "zip_list=[]\n",
    "for states in statelist:\n",
    "    zip_list.append(int(states[3:]))\n",
    "for zip in zip_list:\n",
    "    if zip < 98001 or zip > 99403:\n",
    "        print (\"Error! Zip code and state doesnt match\")\n",
    "zip_set=set(zip_list)\n",
    "print (len(zip_set))\n",
    "## 77 Unqiue Zip Codes and all in Washington D.C\n",
    "# No errors found in Statezip values \n"
   ]
  },
  {
   "cell_type": "markdown",
   "metadata": {},
   "source": [
    "<div style=\"color:red\">\n",
    "<h5>Spelling Mistakes in Cities column</h5>\n",
    "<p> A lot of spelling mistakes were found in Cities which I have rectified in the <br>\n",
    "following code</p>\n",
    "</div>"
   ]
  },
  {
   "cell_type": "code",
   "execution_count": 8,
   "metadata": {},
   "outputs": [
    {
     "data": {
      "text/plain": [
       "45"
      ]
     },
     "execution_count": 8,
     "metadata": {},
     "output_type": "execute_result"
    }
   ],
   "source": [
    "# Checking city for lexical errors\n",
    "# The city Auburn is misspelled as Auburnt and auburn and as Auburn \n",
    "# Converting them to Auburn\n",
    "dataframe.city.replace({'Auburnt':'Auburn','auburn':'Auburn'},inplace=True)\n",
    "# The City Sammamish has been misspelled as samamish and sammamish\n",
    "dataframe.city.replace({'Samamish':'Sammamish','sammamish':'Sammamish'},inplace=True)\n",
    "# The City Seattle  has been misspelled as seattle and Seaattle and Seatle\n",
    "dataframe.city.replace({'Seaattle':'Seattle','Seatle':'Seattle','seattle':'Seattle'},inplace=True)\n",
    "# The city Redmond has beeen misspelled and mistyped as Redmonde and redmond and Redmund\n",
    "dataframe.city.replace({'Redmonde':'Redmond','redmond':'Redmond','Redmund':'Redmond'},inplace=True)\n",
    "# The city Bellevue has been  misspelled and mistyped as Bellvue  and Bellevue and Belleview\n",
    "dataframe.city.replace({'Bellvue':'Bellevue','Bellevue':'Bellevue','Belleview':'Bellvue'},inplace=True)\n",
    "# The city Kirkland has been  misspelled and mistyped as Kirklund \n",
    "dataframe.city.replace({'Kirklund':'Kirkland'},inplace=True)\n",
    "# The city Issaquah has been  misspelled and mistyped as Issaguah\n",
    "dataframe.city.replace({'Issaguah':'Issaquah'},inplace=True)\n",
    "# The city Woodinville has been  misspelled and mistyped as Woodenville\n",
    "dataframe.city.replace({'Woodenville':'Woodinville'},inplace=True)\n",
    "# The city Carnation has been  misspelled and mistyped as Coronation\n",
    "dataframe.city.replace({'Coronation':'Carnation'},inplace=True)\n",
    "# The city Snoqualmie has been  misspelled and mistyped as Snogualmie\n",
    "dataframe.city.replace({'Snogualmie':'Snoqualmie'},inplace=True)\n",
    "# The city Shoreline has been  misspelled and mistyped as Sureline\n",
    "dataframe.city.replace({'Sureline':'Shoreline'},inplace=True)\n",
    "# 45 Unique Cities\n",
    "len(dataframe.city.unique())"
   ]
  },
  {
   "cell_type": "markdown",
   "metadata": {},
   "source": [
    "<div style=\"color:green\">\n",
    "<h5>Lexical Errors have been removed</h5>\n",
    "</div>"
   ]
  },
  {
   "cell_type": "markdown",
   "metadata": {},
   "source": [
    "<div style=\"color:red\">\n",
    "<h5>Step 2 is to remove Irregularities such as abnormal data values and data formats</h5>\n",
    "<p>The first issue was with the dates in the dataset <br>\n",
    "which have been fixed in the code below and the data has been converted to its proper datetime format</p>\n",
    "</div>"
   ]
  },
  {
   "cell_type": "code",
   "execution_count": 9,
   "metadata": {},
   "outputs": [
    {
     "data": {
      "text/html": [
       "<div>\n",
       "<style scoped>\n",
       "    .dataframe tbody tr th:only-of-type {\n",
       "        vertical-align: middle;\n",
       "    }\n",
       "\n",
       "    .dataframe tbody tr th {\n",
       "        vertical-align: top;\n",
       "    }\n",
       "\n",
       "    .dataframe thead th {\n",
       "        text-align: right;\n",
       "    }\n",
       "</style>\n",
       "<table border=\"1\" class=\"dataframe\">\n",
       "  <thead>\n",
       "    <tr style=\"text-align: right;\">\n",
       "      <th></th>\n",
       "      <th>date</th>\n",
       "      <th>price</th>\n",
       "      <th>bedrooms</th>\n",
       "      <th>bathrooms</th>\n",
       "      <th>sqft_living</th>\n",
       "      <th>sqft_lot</th>\n",
       "      <th>floors</th>\n",
       "      <th>waterfront</th>\n",
       "      <th>view</th>\n",
       "      <th>condition</th>\n",
       "      <th>sqft_above</th>\n",
       "      <th>sqft_basement</th>\n",
       "      <th>yr_built</th>\n",
       "      <th>yr_renovated</th>\n",
       "      <th>street</th>\n",
       "      <th>city</th>\n",
       "      <th>statezip</th>\n",
       "      <th>country</th>\n",
       "    </tr>\n",
       "  </thead>\n",
       "  <tbody>\n",
       "    <tr>\n",
       "      <th>0</th>\n",
       "      <td>20140502T000000</td>\n",
       "      <td>313000.0</td>\n",
       "      <td>3</td>\n",
       "      <td>1.50</td>\n",
       "      <td>1340</td>\n",
       "      <td>7912</td>\n",
       "      <td>1.5</td>\n",
       "      <td>0</td>\n",
       "      <td>0</td>\n",
       "      <td>3</td>\n",
       "      <td>1340</td>\n",
       "      <td>0</td>\n",
       "      <td>1955</td>\n",
       "      <td>0</td>\n",
       "      <td>18810 Densmore Ave N</td>\n",
       "      <td>Shoreline</td>\n",
       "      <td>WA 98133</td>\n",
       "      <td>USA</td>\n",
       "    </tr>\n",
       "    <tr>\n",
       "      <th>1</th>\n",
       "      <td>20140502T000000</td>\n",
       "      <td>2384000.0</td>\n",
       "      <td>5</td>\n",
       "      <td>2.50</td>\n",
       "      <td>3650</td>\n",
       "      <td>9050</td>\n",
       "      <td>2.0</td>\n",
       "      <td>0</td>\n",
       "      <td>4</td>\n",
       "      <td>5</td>\n",
       "      <td>3370</td>\n",
       "      <td>280</td>\n",
       "      <td>1921</td>\n",
       "      <td>0</td>\n",
       "      <td>709 W Blaine St</td>\n",
       "      <td>Seattle</td>\n",
       "      <td>WA 98119</td>\n",
       "      <td>USA</td>\n",
       "    </tr>\n",
       "    <tr>\n",
       "      <th>2</th>\n",
       "      <td>20140502T000000</td>\n",
       "      <td>342000.0</td>\n",
       "      <td>3</td>\n",
       "      <td>2.00</td>\n",
       "      <td>1930</td>\n",
       "      <td>11947</td>\n",
       "      <td>1.0</td>\n",
       "      <td>0</td>\n",
       "      <td>0</td>\n",
       "      <td>4</td>\n",
       "      <td>1930</td>\n",
       "      <td>0</td>\n",
       "      <td>1966</td>\n",
       "      <td>0</td>\n",
       "      <td>26206-26214 143rd Ave SE</td>\n",
       "      <td>Kent</td>\n",
       "      <td>WA 98042</td>\n",
       "      <td>USA</td>\n",
       "    </tr>\n",
       "    <tr>\n",
       "      <th>3</th>\n",
       "      <td>20140502T000000</td>\n",
       "      <td>420000.0</td>\n",
       "      <td>3</td>\n",
       "      <td>2.25</td>\n",
       "      <td>2000</td>\n",
       "      <td>8030</td>\n",
       "      <td>1.0</td>\n",
       "      <td>0</td>\n",
       "      <td>0</td>\n",
       "      <td>4</td>\n",
       "      <td>1000</td>\n",
       "      <td>1000</td>\n",
       "      <td>1963</td>\n",
       "      <td>0</td>\n",
       "      <td>857 170th Pl NE</td>\n",
       "      <td>Bellevue</td>\n",
       "      <td>WA 98008</td>\n",
       "      <td>USA</td>\n",
       "    </tr>\n",
       "    <tr>\n",
       "      <th>4</th>\n",
       "      <td>20140502T000000</td>\n",
       "      <td>550000.0</td>\n",
       "      <td>4</td>\n",
       "      <td>2.50</td>\n",
       "      <td>1940</td>\n",
       "      <td>10500</td>\n",
       "      <td>1.0</td>\n",
       "      <td>0</td>\n",
       "      <td>0</td>\n",
       "      <td>4</td>\n",
       "      <td>1140</td>\n",
       "      <td>800</td>\n",
       "      <td>1976</td>\n",
       "      <td>0</td>\n",
       "      <td>9105 170th Ave NE</td>\n",
       "      <td>Redmond</td>\n",
       "      <td>WA 98052</td>\n",
       "      <td>USA</td>\n",
       "    </tr>\n",
       "  </tbody>\n",
       "</table>\n",
       "</div>"
      ],
      "text/plain": [
       "              date      price  bedrooms  bathrooms  sqft_living  sqft_lot  \\\n",
       "0  20140502T000000   313000.0         3       1.50         1340      7912   \n",
       "1  20140502T000000  2384000.0         5       2.50         3650      9050   \n",
       "2  20140502T000000   342000.0         3       2.00         1930     11947   \n",
       "3  20140502T000000   420000.0         3       2.25         2000      8030   \n",
       "4  20140502T000000   550000.0         4       2.50         1940     10500   \n",
       "\n",
       "   floors  waterfront  view  condition  sqft_above  sqft_basement  yr_built  \\\n",
       "0     1.5           0     0          3        1340              0      1955   \n",
       "1     2.0           0     4          5        3370            280      1921   \n",
       "2     1.0           0     0          4        1930              0      1966   \n",
       "3     1.0           0     0          4        1000           1000      1963   \n",
       "4     1.0           0     0          4        1140            800      1976   \n",
       "\n",
       "   yr_renovated                    street       city  statezip country  \n",
       "0             0      18810 Densmore Ave N  Shoreline  WA 98133     USA  \n",
       "1             0           709 W Blaine St    Seattle  WA 98119     USA  \n",
       "2             0  26206-26214 143rd Ave SE       Kent  WA 98042     USA  \n",
       "3             0           857 170th Pl NE   Bellevue  WA 98008     USA  \n",
       "4             0         9105 170th Ave NE    Redmond  WA 98052     USA  "
      ]
     },
     "execution_count": 9,
     "metadata": {},
     "output_type": "execute_result"
    }
   ],
   "source": [
    "# There is no 20140631T00000 ( incorrect date as there is no 31st of june), so I have changed it to 30-06-2014\n",
    "# The date format at index 4335 is 23052014T000000 which is incorrect it should be 20140523T000000\n",
    "dataframe.date.replace({'20140631T000000':'20140630T000000'},inplace=True)\n",
    "dataframe.date.replace({'23052014T000000':'20140523T000000'},inplace=True)\n",
    "# fixed date issues\n",
    "# checking for date issues\n",
    "date_list=[]\n",
    "date_list=dataframe.date.tolist()\n",
    "for date in date_list:\n",
    "    parse(date) \n",
    "# No More Issues\n",
    "# Converting date into specified datetime format\n",
    "pd.to_datetime(dataframe.date)\n",
    "dataframe.head()"
   ]
  },
  {
   "cell_type": "markdown",
   "metadata": {},
   "source": [
    "<div style=\"color:red\">\n",
    "<h5></h5>\n",
    "<p>The next issue was with the values for bathrooms in the dataset <br>\n",
    "No bathrooms should have any fraction other than .00, .5 ,.25 and .75<br>\n",
    "In the below code these issues have been fixed </p>\n",
    "</div>"
   ]
  },
  {
   "cell_type": "code",
   "execution_count": 10,
   "metadata": {},
   "outputs": [],
   "source": [
    "\n",
    "#bathroom_list=dataframe.bathrooms.tolist()\n",
    "#print (set(bathroom_list))\n",
    "# Converting into set for a better view \n",
    "# There are fraction values of 1.7, 2.3, 1.05,2.55 and 2.57\n",
    "# I belive these values are either mistyped or are irregular. \n",
    "# 1.7 should be 1.75 (5 is missing)\n",
    "# 2.3 should be 2.25 (rounded off to 2.3 somehow)\n",
    "# 1.05 should be 1.50 (mistyped  0 before 5)\n",
    "# 2.57 should be 2.75 (mistyped 5 before 7)\n",
    "# 2.55 should be 2.50\n",
    "dataframe.bathrooms.replace({1.7:1.75,2.3:2.25,1.05:1.50,2.57:2.75,2.55:2.50},inplace=True)\n"
   ]
  },
  {
   "cell_type": "markdown",
   "metadata": {},
   "source": [
    "<div style=\"color:green\">\n",
    "<h5> Irregularities have been removed</h5>\n",
    "</div>"
   ]
  },
  {
   "cell_type": "markdown",
   "metadata": {},
   "source": [
    "<div style=\"color:red\">\n",
    "<h5>Step 3 is to remove Violations of the Integrity constraints</h5>\n",
    "<p></p>\n",
    "</div>"
   ]
  },
  {
   "cell_type": "code",
   "execution_count": 11,
   "metadata": {},
   "outputs": [
    {
     "name": "stdout",
     "output_type": "stream",
     "text": [
      "                 date     price  bedrooms  bathrooms  sqft_living  sqft_lot  \\\n",
      "4340  20140502T000000  440000.0         4       2.25         2160      8119   \n",
      "4341  20140526T000000  690000.0         4       2.50         2700      8810   \n",
      "4342  20140508T000000  375000.0         6       2.25         3206      5793   \n",
      "4345  20140522T000000  850000.0         4       3.25         3090      6744   \n",
      "\n",
      "      floors  waterfront  view  condition  sqft_above  sqft_basement  \\\n",
      "4340     1.0           0     0          3        1080           1080   \n",
      "4341     2.0           0     0          3        2700              0   \n",
      "4342     2.0           0     0          3        3206              0   \n",
      "4345     2.0           0     4          3        3090              0   \n",
      "\n",
      "      yr_built  yr_renovated                            street       city  \\\n",
      "4340      1966          1913                  12211 SE 65th St   Bellevue   \n",
      "4341      2004          2003                 11659 168th Ct NE    Redmond   \n",
      "4342      2012          1912             25921-25929 35th Pl S       Kent   \n",
      "4345      2013          1923  19117-19123 Richmond Beach Dr NW  Shoreline   \n",
      "\n",
      "      statezip country  \n",
      "4340  WA 98006     USA  \n",
      "4341  WA 98052     USA  \n",
      "4342  WA 98032     USA  \n",
      "4345  WA 98177     USA  \n",
      "Empty DataFrame\n",
      "Columns: [date, price, bedrooms, bathrooms, sqft_living, sqft_lot, floors, waterfront, view, condition, sqft_above, sqft_basement, yr_built, yr_renovated, street, city, statezip, country]\n",
      "Index: []\n"
     ]
    }
   ],
   "source": [
    "# Year built should be the same or should be  before Yr_Renovated\n",
    "# So no rows should have a year built bigger than yr_renovated\n",
    "# as no houses should be renovated before it is built\n",
    "print (dataframe[(dataframe.yr_built>dataframe.yr_renovated) & (dataframe.yr_renovated>0) ])\n",
    "# but we have 4 cases in which this has been happend at index 4340,4341,4342 and 4345\n",
    "# upon inspection I belive that these values have been incorrectly place \n",
    "# and both need to be swapped with each other\n",
    "# At index 4340 yr_built should be 1913 and yr_renovated should be 1966\n",
    "dataframe.loc[4340,'yr_built']=1913\n",
    "dataframe.loc[4340,'yr_renovated']=1966\n",
    "# At index 4341 yr_built should be 2003 and yr_renovated should be 2004\n",
    "dataframe.loc[4341,'yr_built']=2003\n",
    "dataframe.loc[4341,'yr_renovated']=2004\n",
    "# At index 4342 yr_built should be 1912 and yr_renovated should be 2012\n",
    "dataframe.loc[4342,'yr_built']=1912\n",
    "dataframe.loc[4342,'yr_renovated']=2012\n",
    "# At index 4345 yr_built should be 1923 and yr_renovated should be 2013\n",
    "dataframe.loc[4345,'yr_built']=1923\n",
    "dataframe.loc[4345,'yr_renovated']=2013\n",
    "# Now no more such issues\n",
    "print (dataframe[(dataframe.yr_built>dataframe.yr_renovated) & (dataframe.yr_renovated>0) ])"
   ]
  },
  {
   "cell_type": "code",
   "execution_count": 12,
   "metadata": {},
   "outputs": [
    {
     "name": "stdout",
     "output_type": "stream",
     "text": [
      "                 date     price  bedrooms  bathrooms  sqft_living  sqft_lot  \\\n",
      "4338  20140710T000000  670000.0         3        2.5         1280      1438   \n",
      "4339  20140701T000000  202000.0         1        1.0          890       833   \n",
      "\n",
      "      floors  waterfront  view  condition  sqft_above  sqft_basement  \\\n",
      "4338     2.0           0     0          3        1280           1420   \n",
      "4339     1.0           0     0          4         590              0   \n",
      "\n",
      "      yr_built  yr_renovated              street     city  statezip country  \n",
      "4338      2003             0  746 Boylston Ave E  Seattle  WA 98102     USA  \n",
      "4339      1926             0    701-711 26th Ave  Seattle  WA 98122     USA  \n",
      "Empty DataFrame\n",
      "Columns: [date, price, bedrooms, bathrooms, sqft_living, sqft_lot, floors, waterfront, view, condition, sqft_above, sqft_basement, yr_built, yr_renovated, street, city, statezip, country]\n",
      "Index: []\n"
     ]
    }
   ],
   "source": [
    "# sqft_living should be sqft_basement +  sqft_above\n",
    "# floor must be >0 and >1 if it has a value for sqft_basement\n",
    "print (dataframe[dataframe.sqft_living!=dataframe.sqft_basement+dataframe.sqft_above])\n",
    "# There are two such cases which are not correct\n",
    "# First case is at index 4338 where sqft_living is 1280 \n",
    "# but sqft_basement is 1420 and sqft_above is 1280\n",
    "# As the basement cannot be more than the sqft_living \n",
    "# the value of basement is incorrect\n",
    "# So The value in sqft_basement is 1420 because of some typing error\n",
    "# It should be replaced with 140\n",
    "# So now we have both sqft_basement and sqft_above accurate values \n",
    "# updating sqft_living as well\n",
    "dataframe.loc[4338,'sqft_basement']=140\n",
    "dataframe.loc[4338,'sqft_living']=140+1280\n",
    "# The second case is at index 4339 where sqft_living is 890\n",
    "# but sqft_basement is 0 and sqft_above is 590\n",
    "# My assumption based for this data set is that\n",
    "# sqft_lot should be greater than or equal to sqft_living\n",
    "# here sqft_living is higher than sqft_lot which is not possible\n",
    "# so the value of sqft_above is correct\n",
    "dataframe.loc[4339,'sqft_living']=dataframe.loc[4339,'sqft_above']\n",
    "# No More issues like that are found\n",
    "print (dataframe[dataframe.sqft_living!=dataframe.sqft_basement+dataframe.sqft_above])\n"
   ]
  },
  {
   "cell_type": "markdown",
   "metadata": {},
   "source": [
    "<div style=\"color:green\">\n",
    "<h5> Integrity issues have been fixed</h5>\n",
    "</div>"
   ]
  },
  {
   "cell_type": "markdown",
   "metadata": {},
   "source": [
    "<div style=\"color:red\">\n",
    "<h5>Next step is to remove duplicate records</h5>\n",
    "<p>In the below code duplicate records have been dealt with </p>\n",
    "</div>"
   ]
  },
  {
   "cell_type": "code",
   "execution_count": 13,
   "metadata": {},
   "outputs": [
    {
     "name": "stdout",
     "output_type": "stream",
     "text": [
      "                 date     price  bedrooms  bathrooms  sqft_living  sqft_lot  \\\n",
      "1017  20140520T000000  300000.0         6       5.25         2860      5682   \n",
      "1024  20140520T000000  206000.0         4       2.00         1700      6025   \n",
      "\n",
      "      floors  waterfront  view  condition  sqft_above  sqft_basement  \\\n",
      "1017     2.0           0     0          3        2860              0   \n",
      "1024     1.0           0     0          3        1700              0   \n",
      "\n",
      "      yr_built  yr_renovated         street    city  statezip country  \n",
      "1017      1978             0  606 5th St SE  Auburn  WA 98002     USA  \n",
      "1024      1978             0  606 5th St SE  Auburn  WA 98002     USA  \n"
     ]
    },
    {
     "data": {
      "text/plain": [
       "(4600, 18)"
      ]
     },
     "execution_count": 13,
     "metadata": {},
     "output_type": "execute_result"
    }
   ],
   "source": [
    "# If the address and the date sold is the same it is the same property\n",
    "# Two Records with same address and date are found\n",
    "#print (dataframe[dataframe.duplicated(['city','street','date'],keep='first')])\n",
    "#print (dataframe[dataframe.duplicated(['city','street','date'],keep='last')])\n",
    "# Records 1024 and 1017 are the same\n",
    "# Lets examine these records\n",
    "print (dataframe[(dataframe.index==1024) | (dataframe.index==1017)])\n",
    "# Not Dropping record 1024 or 1017 because both records have different data. They might be a date error\n",
    "# somewhere but we cannot be certain which date to impute here. So we leave them as it is.\n",
    "\n",
    "\n",
    "# Records 4336 and 4337 are exactly the same \n",
    "# Lets examine these records\n",
    "# They both contain the exact same data. So deleting one of them.\n",
    "dataframe[(dataframe.index==4336) | (dataframe.index==4337)]\n",
    "dataframe.drop(dataframe.index[4337],inplace=True)\n",
    "dataframe.shape # now number of rows are 4600"
   ]
  },
  {
   "cell_type": "code",
   "execution_count": 14,
   "metadata": {},
   "outputs": [
    {
     "name": "stdout",
     "output_type": "stream",
     "text": [
      "4600\n"
     ]
    }
   ],
   "source": [
    "# Fixing Missing Values in Year Renovated\n",
    "# We find that some have 0's in year renovated. we fill these values by inserting yr_build values in yr_renovated for\n",
    "# these records\n",
    "# Finding 0's records \n",
    "# Changing to yr_built\n",
    "yr_built_list=[]\n",
    "yr_renovated_list=[]\n",
    "new_renovated_list=[]\n",
    "yr_built_list=dataframe['yr_built'].tolist()\n",
    "yr_renovated_list=dataframe['yr_renovated'].tolist()\n",
    "print (len(yr_built_list))\n",
    "for i in range(0,len(yr_renovated_list)):\n",
    "    if yr_renovated_list[i]==0: # If 0 is found append built year value\n",
    "        new_renovated_list.append(yr_built_list[i])\n",
    "    else:\n",
    "        new_renovated_list.append(yr_renovated_list[i]) # else append renovated year value\n",
    "dataframe['yr_renovated']=new_renovated_list # Updating yr_renovated_list\n"
   ]
  },
  {
   "cell_type": "markdown",
   "metadata": {},
   "source": [
    "<div style=\"color:green\">\n",
    "<h5> Duplications have been removed</h5>\n",
    "</div>"
   ]
  },
  {
   "cell_type": "markdown",
   "metadata": {},
   "source": [
    "<div style=\"color:red\">\n",
    "<h5>Next step is to find and impute missing values</h5>\n",
    "<p>In the below code I am searching for Nan or Missing values for Object and Date Datatypes</p>\n",
    "</div>"
   ]
  },
  {
   "cell_type": "code",
   "execution_count": 15,
   "metadata": {},
   "outputs": [
    {
     "name": "stdout",
     "output_type": "stream",
     "text": [
      "False\n",
      "False\n",
      "False\n",
      "False\n",
      "False\n"
     ]
    }
   ],
   "source": [
    "# Checking for Missing Values for object and date types \n",
    "# First checking date (date type) for Null Values\n",
    "print (dataframe.date.isnull().values.any())\n",
    "# No missing values found\n",
    "# Now checking object data type\n",
    "# Checking Street\n",
    "print (dataframe.street.isnull().values.any())\n",
    "# No missing values found\n",
    "# Checking city\n",
    "print (dataframe.city.isnull().values.any())\n",
    "# No missing values found\n",
    "# Checking State Zip\n",
    "print (dataframe.statezip.isnull().values.any())\n",
    "# No missing values found\n",
    "# Checking Country\n",
    "print (dataframe.country.isnull().values.any())\n",
    "# No missing values found"
   ]
  },
  {
   "cell_type": "markdown",
   "metadata": {},
   "source": [
    "<p style='color:green'>No missing values found </p>"
   ]
  },
  {
   "cell_type": "markdown",
   "metadata": {},
   "source": [
    "<div style=\"color:red\">\n",
    "<p>In the below code I am searching for Missing values for int and float Datatypes</p>\n",
    "</div>"
   ]
  },
  {
   "cell_type": "code",
   "execution_count": 16,
   "metadata": {},
   "outputs": [
    {
     "name": "stdout",
     "output_type": "stream",
     "text": [
      "248\n"
     ]
    },
    {
     "data": {
      "text/plain": [
       "date              object\n",
       "price            float64\n",
       "bedrooms           int64\n",
       "bathrooms        float64\n",
       "sqft_living        int64\n",
       "sqft_lot           int64\n",
       "floors           float64\n",
       "waterfront         int64\n",
       "view               int64\n",
       "condition          int64\n",
       "sqft_above         int64\n",
       "sqft_basement      int64\n",
       "yr_built           int64\n",
       "yr_renovated       int64\n",
       "street            object\n",
       "city              object\n",
       "statezip          object\n",
       "country           object\n",
       "dtype: object"
      ]
     },
     "execution_count": 16,
     "metadata": {},
     "output_type": "execute_result"
    }
   ],
   "source": [
    "# Checking for Float (price,bathroom and floors)\n",
    "# Checking for bathrooms value  < 0.25 as 0.25 is the minimum possible value \n",
    "dataframe[dataframe.bathrooms <0.25]\n",
    "# As there are only two records at index 2365 and 3209 which have these values\n",
    "# it is possible that these are just large properties for recreational purposes. \n",
    "# and not livable houses. So these missing values are justified\n",
    "# Checking for floors <0\n",
    "dataframe[dataframe.floors<0]\n",
    "# There are no missing values for floors\n",
    "\n",
    "# Checking for price < 0 \n",
    "#There are 248 Missing Prices for records\n",
    "print (len(dataframe[dataframe.price==0]))\n",
    "# These missing prices would be dealth would be imputed after checking for all the other missing value\n",
    "dataframe.dtypes"
   ]
  },
  {
   "cell_type": "code",
   "execution_count": 17,
   "metadata": {},
   "outputs": [
    {
     "data": {
      "text/plain": [
       "1295650"
      ]
     },
     "execution_count": 17,
     "metadata": {},
     "output_type": "execute_result"
    }
   ],
   "source": [
    "round(1295648,-1)"
   ]
  },
  {
   "cell_type": "code",
   "execution_count": 18,
   "metadata": {},
   "outputs": [
    {
     "name": "stdout",
     "output_type": "stream",
     "text": [
      "                 date      price  bedrooms  bathrooms  sqft_living  sqft_lot  \\\n",
      "2365  20140612T000000  1095000.0         0        0.0         3064      4764   \n",
      "3209  20140624T000000  1295648.0         0        0.0         4810     28008   \n",
      "\n",
      "      floors  waterfront  view  condition  sqft_above  sqft_basement  \\\n",
      "2365     3.5           0     2          3        3064              0   \n",
      "3209     2.0           0     0          3        4810              0   \n",
      "\n",
      "      yr_built  yr_renovated            street     city  statezip country  \n",
      "2365      1990          1990     814 E Howe St  Seattle  WA 98102     USA  \n",
      "3209      1990          1990  20418 NE 64th Pl  Redmond  WA 98053     USA  \n",
      "Empty DataFrame\n",
      "Columns: [date, price, bedrooms, bathrooms, sqft_living, sqft_lot, floors, waterfront, view, condition, sqft_above, sqft_basement, yr_built, yr_renovated, street, city, statezip, country]\n",
      "Index: []\n",
      "Empty DataFrame\n",
      "Columns: [date, price, bedrooms, bathrooms, sqft_living, sqft_lot, floors, waterfront, view, condition, sqft_above, sqft_basement, yr_built, yr_renovated, street, city, statezip, country]\n",
      "Index: []\n",
      "Empty DataFrame\n",
      "Columns: [date, price, bedrooms, bathrooms, sqft_living, sqft_lot, floors, waterfront, view, condition, sqft_above, sqft_basement, yr_built, yr_renovated, street, city, statezip, country]\n",
      "Index: []\n",
      "Empty DataFrame\n",
      "Columns: [date, price, bedrooms, bathrooms, sqft_living, sqft_lot, floors, waterfront, view, condition, sqft_above, sqft_basement, yr_built, yr_renovated, street, city, statezip, country]\n",
      "Index: []\n",
      "Empty DataFrame\n",
      "Columns: [date, price, bedrooms, bathrooms, sqft_living, sqft_lot, floors, waterfront, view, condition, sqft_above, sqft_basement, yr_built, yr_renovated, street, city, statezip, country]\n",
      "Index: []\n",
      "Empty DataFrame\n",
      "Columns: [date, price, bedrooms, bathrooms, sqft_living, sqft_lot, floors, waterfront, view, condition, sqft_above, sqft_basement, yr_built, yr_renovated, street, city, statezip, country]\n",
      "Index: []\n",
      "Empty DataFrame\n",
      "Columns: [date, price, bedrooms, bathrooms, sqft_living, sqft_lot, floors, waterfront, view, condition, sqft_above, sqft_basement, yr_built, yr_renovated, street, city, statezip, country]\n",
      "Index: []\n",
      "Empty DataFrame\n",
      "Columns: [date, price, bedrooms, bathrooms, sqft_living, sqft_lot, floors, waterfront, view, condition, sqft_above, sqft_basement, yr_built, yr_renovated, street, city, statezip, country]\n",
      "Index: []\n"
     ]
    }
   ],
   "source": [
    "# checking integer type values\n",
    "# Checking bedrooms for missing values\n",
    "# As there are only two records at index 2365 and 3209 which have these values\n",
    "# it is possible that these are just large properties for recreational purposes. \n",
    "# and not livable houses. So these missing values are justified\n",
    "print (dataframe[dataframe.bedrooms<=0])\n",
    "\n",
    "# Checking for Sqft_lot  if it is <0 \n",
    "print (dataframe[dataframe.sqft_lot <0])# No such issues are found\n",
    "\n",
    "# Checking for waterfront if it is <0 \n",
    "print (dataframe[dataframe.waterfront <0])# No such issues are found\n",
    "\n",
    "# Checking for view  if it is <0 \n",
    "print (dataframe[dataframe.view <0])# No such issues are found\n",
    "\n",
    "# Checking for condition  if it is <0 \n",
    "print (dataframe[dataframe.condition <0])# No such issues are found\n",
    "\n",
    "# Checking for sqft_above  if it is <0 \n",
    "print (dataframe[dataframe.sqft_above <0])# No such issues are found\n",
    "\n",
    "# Checking for sqft_basement  if it is <0 \n",
    "print (dataframe[dataframe.sqft_basement <0])# No such issues are found\n",
    "\n",
    "# Checking for yr_built  if it is <1900\n",
    "print (dataframe[dataframe.yr_built <1900])# No such issues are found\n",
    "\n",
    "# Checking for yr_renovated if it is <1900\n",
    "print (dataframe[dataframe.yr_renovated <1900])# No such issues are found\n"
   ]
  },
  {
   "cell_type": "markdown",
   "metadata": {},
   "source": [
    "<p style='color:green'>No missing values found in columns except Price</p>"
   ]
  },
  {
   "cell_type": "markdown",
   "metadata": {},
   "source": [
    "<p style='color:red'>Bofore Fixing Price Values, we need to find and remove outliers for price</p>"
   ]
  },
  {
   "cell_type": "markdown",
   "metadata": {},
   "source": [
    "<div style=\"color:red\">\n",
    "<h5>Next step is to detect outliers in the dataset</h5>\n",
    "<p>In the below code I am searching for  outliers in price</p>\n",
    "</div>"
   ]
  },
  {
   "cell_type": "code",
   "execution_count": 19,
   "metadata": {},
   "outputs": [
    {
     "data": {
      "image/png": "[encoded data removed]",
      "text/plain": [
       "<Figure size 720x576 with 1 Axes>"
      ]
     },
     "metadata": {
      "needs_background": "light"
     },
     "output_type": "display_data"
    }
   ],
   "source": [
    "# Now checking price for Outliers by showing boxplots\n",
    "plt.figure(figsize=(10,8))\n",
    "dataframe.boxplot()\n",
    "plt.show()"
   ]
  },
  {
   "cell_type": "code",
   "execution_count": 20,
   "metadata": {
    "scrolled": false
   },
   "outputs": [],
   "source": [
    "# As we can see there are a lot of outliers in the prices column and sqft_lot\n",
    "# if we try to predict the absent prices, these outliers will give us an \n",
    "# incorrect estimate\n"
   ]
  },
  {
   "cell_type": "code",
   "execution_count": 21,
   "metadata": {},
   "outputs": [
    {
     "data": {
      "image/png": "[encoded data removed]",
      "text/plain": [
       "<Figure size 720x576 with 1 Axes>"
      ]
     },
     "metadata": {
      "needs_background": "light"
     },
     "output_type": "display_data"
    }
   ],
   "source": [
    "# Now checking price for Outliers in the price by showing boxplots\n",
    "plt.figure(figsize=(10,8))\n",
    "dataframe.boxplot(column=['price'])\n",
    "plt.show()"
   ]
  },
  {
   "cell_type": "code",
   "execution_count": 22,
   "metadata": {},
   "outputs": [
    {
     "data": {
      "text/html": [
       "<div>\n",
       "<style scoped>\n",
       "    .dataframe tbody tr th:only-of-type {\n",
       "        vertical-align: middle;\n",
       "    }\n",
       "\n",
       "    .dataframe tbody tr th {\n",
       "        vertical-align: top;\n",
       "    }\n",
       "\n",
       "    .dataframe thead th {\n",
       "        text-align: right;\n",
       "    }\n",
       "</style>\n",
       "<table border=\"1\" class=\"dataframe\">\n",
       "  <thead>\n",
       "    <tr style=\"text-align: right;\">\n",
       "      <th></th>\n",
       "      <th>date</th>\n",
       "      <th>price</th>\n",
       "      <th>bedrooms</th>\n",
       "      <th>bathrooms</th>\n",
       "      <th>sqft_living</th>\n",
       "      <th>sqft_lot</th>\n",
       "      <th>floors</th>\n",
       "      <th>waterfront</th>\n",
       "      <th>view</th>\n",
       "      <th>condition</th>\n",
       "      <th>sqft_above</th>\n",
       "      <th>sqft_basement</th>\n",
       "      <th>yr_built</th>\n",
       "      <th>yr_renovated</th>\n",
       "      <th>street</th>\n",
       "      <th>city</th>\n",
       "      <th>statezip</th>\n",
       "      <th>country</th>\n",
       "    </tr>\n",
       "  </thead>\n",
       "  <tbody>\n",
       "    <tr>\n",
       "      <th>2286</th>\n",
       "      <td>20140611T000000</td>\n",
       "      <td>7062500.0</td>\n",
       "      <td>5</td>\n",
       "      <td>4.5</td>\n",
       "      <td>10040</td>\n",
       "      <td>37325</td>\n",
       "      <td>2.0</td>\n",
       "      <td>1</td>\n",
       "      <td>2</td>\n",
       "      <td>3</td>\n",
       "      <td>7680</td>\n",
       "      <td>2360</td>\n",
       "      <td>1940</td>\n",
       "      <td>2001</td>\n",
       "      <td>4442 95th Ave NE</td>\n",
       "      <td>Bellevue</td>\n",
       "      <td>WA 98004</td>\n",
       "      <td>USA</td>\n",
       "    </tr>\n",
       "    <tr>\n",
       "      <th>4347</th>\n",
       "      <td>20140623T000000</td>\n",
       "      <td>12899000.0</td>\n",
       "      <td>3</td>\n",
       "      <td>2.5</td>\n",
       "      <td>2190</td>\n",
       "      <td>11394</td>\n",
       "      <td>1.0</td>\n",
       "      <td>0</td>\n",
       "      <td>0</td>\n",
       "      <td>3</td>\n",
       "      <td>1550</td>\n",
       "      <td>640</td>\n",
       "      <td>1956</td>\n",
       "      <td>1956</td>\n",
       "      <td>5426 40th Ave W</td>\n",
       "      <td>Seattle</td>\n",
       "      <td>WA 98199</td>\n",
       "      <td>USA</td>\n",
       "    </tr>\n",
       "    <tr>\n",
       "      <th>4351</th>\n",
       "      <td>20140703T000000</td>\n",
       "      <td>26590000.0</td>\n",
       "      <td>3</td>\n",
       "      <td>2.0</td>\n",
       "      <td>1180</td>\n",
       "      <td>7793</td>\n",
       "      <td>1.0</td>\n",
       "      <td>0</td>\n",
       "      <td>0</td>\n",
       "      <td>4</td>\n",
       "      <td>1180</td>\n",
       "      <td>0</td>\n",
       "      <td>1992</td>\n",
       "      <td>1992</td>\n",
       "      <td>12005 SE 219th Ct</td>\n",
       "      <td>Kent</td>\n",
       "      <td>WA 98031</td>\n",
       "      <td>USA</td>\n",
       "    </tr>\n",
       "  </tbody>\n",
       "</table>\n",
       "</div>"
      ],
      "text/plain": [
       "                 date       price  bedrooms  bathrooms  sqft_living  sqft_lot  \\\n",
       "2286  20140611T000000   7062500.0         5        4.5        10040     37325   \n",
       "4347  20140623T000000  12899000.0         3        2.5         2190     11394   \n",
       "4351  20140703T000000  26590000.0         3        2.0         1180      7793   \n",
       "\n",
       "      floors  waterfront  view  condition  sqft_above  sqft_basement  \\\n",
       "2286     2.0           1     2          3        7680           2360   \n",
       "4347     1.0           0     0          3        1550            640   \n",
       "4351     1.0           0     0          4        1180              0   \n",
       "\n",
       "      yr_built  yr_renovated             street      city  statezip country  \n",
       "2286      1940          2001   4442 95th Ave NE  Bellevue  WA 98004     USA  \n",
       "4347      1956          1956    5426 40th Ave W   Seattle  WA 98199     USA  \n",
       "4351      1992          1992  12005 SE 219th Ct      Kent  WA 98031     USA  "
      ]
     },
     "execution_count": 22,
     "metadata": {},
     "output_type": "execute_result"
    }
   ],
   "source": [
    "# The extreme outliers for the price data are below\n",
    "dataframe[dataframe.price >5000000]"
   ]
  },
  {
   "cell_type": "code",
   "execution_count": 23,
   "metadata": {},
   "outputs": [
    {
     "data": {
      "image/png": "[encoded data removed]",
      "text/plain": [
       "<Figure size 720x576 with 1 Axes>"
      ]
     },
     "metadata": {
      "needs_background": "light"
     },
     "output_type": "display_data"
    }
   ],
   "source": [
    "# Now checking price for Outliers in the price by showing boxplots\n",
    "plt.figure(figsize=(10,8))\n",
    "dataframe.boxplot(column=['sqft_lot'])\n",
    "plt.show()"
   ]
  },
  {
   "cell_type": "code",
   "execution_count": 24,
   "metadata": {},
   "outputs": [
    {
     "data": {
      "text/html": [
       "<div>\n",
       "<style scoped>\n",
       "    .dataframe tbody tr th:only-of-type {\n",
       "        vertical-align: middle;\n",
       "    }\n",
       "\n",
       "    .dataframe tbody tr th {\n",
       "        vertical-align: top;\n",
       "    }\n",
       "\n",
       "    .dataframe thead th {\n",
       "        text-align: right;\n",
       "    }\n",
       "</style>\n",
       "<table border=\"1\" class=\"dataframe\">\n",
       "  <thead>\n",
       "    <tr style=\"text-align: right;\">\n",
       "      <th></th>\n",
       "      <th>date</th>\n",
       "      <th>price</th>\n",
       "      <th>bedrooms</th>\n",
       "      <th>bathrooms</th>\n",
       "      <th>sqft_living</th>\n",
       "      <th>sqft_lot</th>\n",
       "      <th>floors</th>\n",
       "      <th>waterfront</th>\n",
       "      <th>view</th>\n",
       "      <th>condition</th>\n",
       "      <th>sqft_above</th>\n",
       "      <th>sqft_basement</th>\n",
       "      <th>yr_built</th>\n",
       "      <th>yr_renovated</th>\n",
       "      <th>street</th>\n",
       "      <th>city</th>\n",
       "      <th>statezip</th>\n",
       "      <th>country</th>\n",
       "    </tr>\n",
       "  </thead>\n",
       "  <tbody>\n",
       "    <tr>\n",
       "      <th>1078</th>\n",
       "      <td>20140521T000000</td>\n",
       "      <td>542500.0</td>\n",
       "      <td>5</td>\n",
       "      <td>3.25</td>\n",
       "      <td>3010</td>\n",
       "      <td>1074218</td>\n",
       "      <td>1.5</td>\n",
       "      <td>0</td>\n",
       "      <td>0</td>\n",
       "      <td>5</td>\n",
       "      <td>2010</td>\n",
       "      <td>1000</td>\n",
       "      <td>1931</td>\n",
       "      <td>1931</td>\n",
       "      <td>16200-16398 252nd Ave SE</td>\n",
       "      <td>Issaquah</td>\n",
       "      <td>WA 98027</td>\n",
       "      <td>USA</td>\n",
       "    </tr>\n",
       "    <tr>\n",
       "      <th>2480</th>\n",
       "      <td>20140613T000000</td>\n",
       "      <td>849900.0</td>\n",
       "      <td>2</td>\n",
       "      <td>2.00</td>\n",
       "      <td>2280</td>\n",
       "      <td>641203</td>\n",
       "      <td>2.0</td>\n",
       "      <td>0</td>\n",
       "      <td>0</td>\n",
       "      <td>3</td>\n",
       "      <td>2280</td>\n",
       "      <td>0</td>\n",
       "      <td>1990</td>\n",
       "      <td>1990</td>\n",
       "      <td>9326 SW 216th St</td>\n",
       "      <td>Vashon</td>\n",
       "      <td>WA 98070</td>\n",
       "      <td>USA</td>\n",
       "    </tr>\n",
       "  </tbody>\n",
       "</table>\n",
       "</div>"
      ],
      "text/plain": [
       "                 date     price  bedrooms  bathrooms  sqft_living  sqft_lot  \\\n",
       "1078  20140521T000000  542500.0         5       3.25         3010   1074218   \n",
       "2480  20140613T000000  849900.0         2       2.00         2280    641203   \n",
       "\n",
       "      floors  waterfront  view  condition  sqft_above  sqft_basement  \\\n",
       "1078     1.5           0     0          5        2010           1000   \n",
       "2480     2.0           0     0          3        2280              0   \n",
       "\n",
       "      yr_built  yr_renovated                    street      city  statezip  \\\n",
       "1078      1931          1931  16200-16398 252nd Ave SE  Issaquah  WA 98027   \n",
       "2480      1990          1990          9326 SW 216th St    Vashon  WA 98070   \n",
       "\n",
       "     country  \n",
       "1078     USA  \n",
       "2480     USA  "
      ]
     },
     "execution_count": 24,
     "metadata": {},
     "output_type": "execute_result"
    }
   ],
   "source": [
    "dataframe[dataframe['sqft_lot']> 600000]\n"
   ]
  },
  {
   "cell_type": "code",
   "execution_count": 25,
   "metadata": {},
   "outputs": [],
   "source": [
    "# Creating a new dataframe without these outliers\n",
    "new_dataframe=dataframe[(dataframe.price <= 5000000 ) & (dataframe.sqft_lot <= 600000)]"
   ]
  },
  {
   "cell_type": "code",
   "execution_count": 26,
   "metadata": {},
   "outputs": [
    {
     "name": "stdout",
     "output_type": "stream",
     "text": [
      "The number of rows having price equal to 0 is 248\n"
     ]
    }
   ],
   "source": [
    "# Checking how many rows has price missing\n",
    "print (\"The number of rows having price equal to 0 is \"+str(len(new_dataframe[new_dataframe.price == 0])))"
   ]
  },
  {
   "cell_type": "code",
   "execution_count": 27,
   "metadata": {},
   "outputs": [
    {
     "name": "stderr",
     "output_type": "stream",
     "text": [
      "/anaconda3/lib/python3.7/site-packages/pandas/core/frame.py:3697: SettingWithCopyWarning: \n",
      "A value is trying to be set on a copy of a slice from a DataFrame\n",
      "\n",
      "See the caveats in the documentation: http://pandas.pydata.org/pandas-docs/stable/indexing.html#indexing-view-versus-copy\n",
      "  errors=errors)\n"
     ]
    }
   ],
   "source": [
    "# Using Linear Model for price imputation\n",
    "# As linear regression cant work on object datatype \n",
    "# we remove the object datatype\n",
    "dataframe_for_regression=new_dataframe\n",
    "dataframe_for_regression.drop(['street','city','statezip','country','date'], axis =1,inplace = True)"
   ]
  },
  {
   "cell_type": "code",
   "execution_count": 28,
   "metadata": {},
   "outputs": [
    {
     "name": "stderr",
     "output_type": "stream",
     "text": [
      "/anaconda3/lib/python3.7/site-packages/ipykernel_launcher.py:8: SettingWithCopyWarning: \n",
      "A value is trying to be set on a copy of a slice from a DataFrame\n",
      "\n",
      "See the caveats in the documentation: http://pandas.pydata.org/pandas-docs/stable/indexing.html#indexing-view-versus-copy\n",
      "  \n"
     ]
    }
   ],
   "source": [
    "# Creating and Fitting a Linear Regression Model\n",
    "lm=LinearRegression()\n",
    "X=dataframe_for_regression[[x for x in dataframe_for_regression.columns if x!= 'price']]\n",
    "y=dataframe_for_regression.price\n",
    "dataframe_for_regression.head()\n",
    "lm.fit(X,y)\n",
    "#predictions = lm.predict(X)\n",
    "dataframe['price'][dataframe['price'] == 0] = lm.predict(dataframe.drop(['price','date','street','city','statezip','country'],axis=1))"
   ]
  },
  {
   "cell_type": "code",
   "execution_count": 29,
   "metadata": {},
   "outputs": [
    {
     "data": {
      "text/plain": [
       "LinearRegression(copy_X=True, fit_intercept=True, n_jobs=1, normalize=False)"
      ]
     },
     "execution_count": 29,
     "metadata": {},
     "output_type": "execute_result"
    }
   ],
   "source": [
    "# Splitting train and test dataset\n",
    "X_train, X_test, y_train, y_test = train_test_split(dataframe.iloc[:,2:14],dataframe.iloc[:,1:2],random_state=112)\n",
    "lm.fit(X_train,y_train)"
   ]
  },
  {
   "cell_type": "code",
   "execution_count": 30,
   "metadata": {},
   "outputs": [
    {
     "data": {
      "text/plain": [
       "LinearRegression(copy_X=True, fit_intercept=True, n_jobs=1, normalize=False)"
      ]
     },
     "execution_count": 30,
     "metadata": {},
     "output_type": "execute_result"
    }
   ],
   "source": [
    "# Fitting the model on training dataset\n",
    "lm.fit(X_test,y_test)"
   ]
  },
  {
   "cell_type": "code",
   "execution_count": 31,
   "metadata": {},
   "outputs": [
    {
     "data": {
      "text/html": [
       "<div>\n",
       "<style scoped>\n",
       "    .dataframe tbody tr th:only-of-type {\n",
       "        vertical-align: middle;\n",
       "    }\n",
       "\n",
       "    .dataframe tbody tr th {\n",
       "        vertical-align: top;\n",
       "    }\n",
       "\n",
       "    .dataframe thead th {\n",
       "        text-align: right;\n",
       "    }\n",
       "</style>\n",
       "<table border=\"1\" class=\"dataframe\">\n",
       "  <thead>\n",
       "    <tr style=\"text-align: right;\">\n",
       "      <th></th>\n",
       "      <th>date</th>\n",
       "      <th>price</th>\n",
       "      <th>bedrooms</th>\n",
       "      <th>bathrooms</th>\n",
       "      <th>sqft_living</th>\n",
       "      <th>sqft_lot</th>\n",
       "      <th>floors</th>\n",
       "      <th>waterfront</th>\n",
       "      <th>view</th>\n",
       "      <th>condition</th>\n",
       "      <th>sqft_above</th>\n",
       "      <th>sqft_basement</th>\n",
       "      <th>yr_built</th>\n",
       "      <th>yr_renovated</th>\n",
       "      <th>street</th>\n",
       "      <th>city</th>\n",
       "      <th>statezip</th>\n",
       "      <th>country</th>\n",
       "    </tr>\n",
       "  </thead>\n",
       "  <tbody>\n",
       "  </tbody>\n",
       "</table>\n",
       "</div>"
      ],
      "text/plain": [
       "Empty DataFrame\n",
       "Columns: [date, price, bedrooms, bathrooms, sqft_living, sqft_lot, floors, waterfront, view, condition, sqft_above, sqft_basement, yr_built, yr_renovated, street, city, statezip, country]\n",
       "Index: []"
      ]
     },
     "execution_count": 31,
     "metadata": {},
     "output_type": "execute_result"
    }
   ],
   "source": [
    "# All prices have been predicted\n",
    "dataframe[dataframe.price == 0]"
   ]
  },
  {
   "cell_type": "code",
   "execution_count": 32,
   "metadata": {},
   "outputs": [
    {
     "name": "stdout",
     "output_type": "stream",
     "text": [
      "The Accuracy rate is  64 %\n"
     ]
    }
   ],
   "source": [
    "accuracy = lm.score(X_test, y_test)\n",
    "print (\"The Accuracy rate is  {} %\".format(int(round(accuracy * 100))))\n",
    "# The accuracy of the test is 64%"
   ]
  },
  {
   "cell_type": "code",
   "execution_count": null,
   "metadata": {},
   "outputs": [],
   "source": []
  },
  {
   "cell_type": "markdown",
   "metadata": {},
   "source": [
    "<div style=\"color:green\">\n",
    "<h5>Missing Values have been identified and fixed</h5>\n",
    "</div>"
   ]
  },
  {
   "cell_type": "markdown",
   "metadata": {
    "collapsed": true
   },
   "source": [
    "<div style=\"color:green\">\n",
    "<h5>Inconsistency and inhomogeneity</h5>\n",
    "<p>\n",
    "All Inconsistency and inhomegenity have been removed. The dataset is ready for data modelling</p>\n",
    "</div>"
   ]
  },
  {
   "cell_type": "markdown",
   "metadata": {
    "collapsed": true
   },
   "source": [
    "<div style=\"color:green\">\n",
    "<h5>Writing the CSV File</h5>\n",
    "<p>\n",
    "The list of attributes are : 'date', 'price', 'bedrooms', 'bathrooms', 'sqft_living', 'sqft_lot',\n",
    "       'floors', 'waterfront', 'view', 'condition', 'sqft_above',\n",
    "       'sqft_basement', 'yr_built', 'yr_renovated', 'street', 'city',\n",
    "       'statezip', 'country' <br></p>\n",
    "<p style=\"color:red\">Note: There is no Index Attribute in the CSV file</p>\n",
    "</div>"
   ]
  },
  {
   "cell_type": "code",
   "execution_count": 33,
   "metadata": {},
   "outputs": [
    {
     "name": "stdout",
     "output_type": "stream",
     "text": [
      "date              object\n",
      "price            float64\n",
      "bedrooms           int64\n",
      "bathrooms        float64\n",
      "sqft_living        int64\n",
      "sqft_lot           int64\n",
      "floors           float64\n",
      "waterfront         int64\n",
      "view               int64\n",
      "condition          int64\n",
      "sqft_above         int64\n",
      "sqft_basement      int64\n",
      "yr_built           int64\n",
      "yr_renovated       int64\n",
      "street            object\n",
      "city              object\n",
      "statezip          object\n",
      "country           object\n",
      "dtype: object\n"
     ]
    }
   ],
   "source": [
    "print (dataframe.dtypes)\n",
    "dataframe.to_csv('data_clean.csv',index=False)"
   ]
  },
  {
   "cell_type": "markdown",
   "metadata": {},
   "source": [
    "<h3 style=\"color:green\">Task 2 Finished </h3>"
   ]
  },
  {
   "cell_type": "code",
   "execution_count": null,
   "metadata": {},
   "outputs": [],
   "source": []
  }
 ],
 "metadata": {
  "kernelspec": {
   "display_name": "Python 3",
   "language": "python",
   "name": "python3"
  },
  "language_info": {
   "codemirror_mode": {
    "name": "ipython",
    "version": 3
   },
   "file_extension": ".py",
   "mimetype": "text/x-python",
   "name": "python",
   "nbconvert_exporter": "python",
   "pygments_lexer": "ipython3",
   "version": "3.7.0"
  }
 },
 "nbformat": 4,
 "nbformat_minor": 2
}
